{
 "cells": [
  {
   "cell_type": "code",
   "execution_count": null,
   "metadata": {},
   "outputs": [],
   "source": []
  },
  {
   "cell_type": "markdown",
   "metadata": {},
   "source": []
  },
  {
   "cell_type": "code",
   "execution_count": 36,
   "metadata": {},
   "outputs": [],
   "source": [
    "import pandas as pd\n",
    "import requests\n",
    "\n",
    "url = \"https://raw.githubusercontent.com/Papagoat/brain-assessment/main/restaurant_data.json\"\n",
    "response = requests.get(url)\n",
    "restaurant_data = response.json()\n",
    "country_path = 'Country-Code.xlsx'\n",
    "country_df =   pd.read_excel(country_path)\n"
   ]
  },
  {
   "cell_type": "code",
   "execution_count": 37,
   "metadata": {},
   "outputs": [],
   "source": [
    "restaurants_list = []\n",
    "\n",
    "for entry in restaurant_data:\n",
    "    for restaurant in entry['restaurants']:\n",
    "        info = {\n",
    "            'Restaurant Id': restaurant['restaurant']['R']['res_id'],\n",
    "            'Restaurant Name': restaurant['restaurant']['name'],\n",
    "            'Country Code': restaurant['restaurant']['location']['country_id'], \n",
    "            'City': restaurant['restaurant']['location']['city'],\n",
    "            'User Rating Votes': restaurant['restaurant']['user_rating']['votes'],\n",
    "            'User Aggregate Rating': float(restaurant['restaurant']['user_rating']['aggregate_rating']),\n",
    "            'Cuisines': restaurant['restaurant']['cuisines']\n",
    "        }\n",
    "        restaurants_list.append(info)\n",
    "restaurants_df = pd.DataFrame(restaurants_list)\n",
    "combined_df = pd.merge(restaurants_df, country_df, on='Country Code', how='left')\n",
    "final_df = combined_df.drop('Country Code', axis=1)\n",
    "final_df.to_csv('restaurants.csv', index=False)\n"
   ]
  },
  {
   "cell_type": "code",
   "execution_count": 38,
   "metadata": {},
   "outputs": [],
   "source": [
    "from datetime import datetime\n",
    "\n",
    "event_list = []\n",
    "\n",
    "start_date = datetime(2019, 4, 1)\n",
    "end_date = datetime(2019, 4, 30)\n",
    "\n",
    "for entry in restaurant_data:\n",
    "    for restaurant in entry['restaurants']:\n",
    "        if 'zomato_events' in restaurant['restaurant']:\n",
    "            for event in restaurant['restaurant']['zomato_events']:\n",
    "                event_start = datetime.strptime(event['event']['start_date'], '%Y-%m-%d')\n",
    "                event_end = datetime.strptime(event['event']['end_date'], '%Y-%m-%d')\n",
    "                if start_date <= event_start <= end_date or start_date <= event_end <= end_date:\n",
    "                    if 'photos' in event['event'] and len(event['event']['photos']) > 0:\n",
    "                        photo_url = event['event']['photos'][0]['photo']['url']\n",
    "                    else:\n",
    "                        photo_url = \"NA\"\n",
    "                    info = {\n",
    "                        'Event Id': event['event']['event_id'],\n",
    "                        'Restaurant Id': restaurant['restaurant']['R']['res_id'],\n",
    "                        'Restaurant Name': restaurant['restaurant']['name'],\n",
    "                        'Photo URL': photo_url,\n",
    "                        'Event Title': event['event']['title'],\n",
    "                        'Event Start Date': event['event']['start_date'],\n",
    "                        'Event End Date': event['event']['end_date']\n",
    "                    }\n",
    "                    event_list.append(info)\n",
    "\n",
    "event_df = pd.DataFrame(event_list)\n",
    "\n",
    "event_df.fillna(\"NA\", inplace=True)\n",
    "\n",
    "event_df.to_csv('restaurant_events.csv', index=False)"
   ]
  }
 ],
 "metadata": {
  "kernelspec": {
   "display_name": "Python 3",
   "language": "python",
   "name": "python3"
  },
  "language_info": {
   "codemirror_mode": {
    "name": "ipython",
    "version": 3
   },
   "file_extension": ".py",
   "mimetype": "text/x-python",
   "name": "python",
   "nbconvert_exporter": "python",
   "pygments_lexer": "ipython3",
   "version": "3.11.3"
  }
 },
 "nbformat": 4,
 "nbformat_minor": 2
}
