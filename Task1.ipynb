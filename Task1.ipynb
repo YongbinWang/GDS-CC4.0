{
 "cells": [
  {
   "cell_type": "code",
   "execution_count": null,
   "metadata": {},
   "outputs": [],
   "source": []
  },
  {
   "cell_type": "markdown",
   "metadata": {},
   "source": []
  },
  {
   "cell_type": "code",
   "execution_count": 23,
   "metadata": {},
   "outputs": [],
   "source": [
    "import pandas as pd\n",
    "import requests\n",
    "\n",
    "url = \"https://raw.githubusercontent.com/Papagoat/brain-assessment/main/restaurant_data.json\"\n",
    "response = requests.get(url)\n",
    "restaurant_data = response.json()\n",
    "country_path = 'Country-Code.xlsx'\n",
    "country_df =   pd.read_excel(country_path)\n"
   ]
  },
  {
   "cell_type": "code",
   "execution_count": 24,
   "metadata": {},
   "outputs": [
    {
     "name": "stdout",
     "output_type": "stream",
     "text": [
      "   Restaurant Id       Restaurant Name       City User Rating Votes  \\\n",
      "0       18649486  The Drunken Botanist    Gurgaon              4765   \n",
      "1         308322      Hauz Khas Social  New Delhi             13627   \n",
      "2       18856789  AIR- An Ivory Region  New Delhi              1819   \n",
      "3         307374              AMA Cafe  New Delhi              3252   \n",
      "4       18238278               Tamasha  New Delhi              8112   \n",
      "\n",
      "   User Aggregate Rating                                           Cuisines  \\\n",
      "0                    4.4        Continental, Italian, North Indian, Chinese   \n",
      "1                    4.6  Continental, American, Asian, North Indian, Ch...   \n",
      "2                    4.1          North Indian, Chinese, Continental, Asian   \n",
      "3                    4.4                                       Cafe, Juices   \n",
      "4                    4.4    Finger Food, North Indian, Continental, Italian   \n",
      "\n",
      "  Country  \n",
      "0   India  \n",
      "1   India  \n",
      "2   India  \n",
      "3   India  \n",
      "4   India  \n"
     ]
    }
   ],
   "source": [
    "restaurants_list = []\n",
    "\n",
    "for entry in restaurant_data:\n",
    "    for restaurant in entry['restaurants']:\n",
    "        info = {\n",
    "            'Restaurant Id': restaurant['restaurant']['R']['res_id'],\n",
    "            'Restaurant Name': restaurant['restaurant']['name'],\n",
    "            'Country Code': restaurant['restaurant']['location']['country_id'], \n",
    "            'City': restaurant['restaurant']['location']['city'],\n",
    "            'User Rating Votes': restaurant['restaurant']['user_rating']['votes'],\n",
    "            'User Aggregate Rating': float(restaurant['restaurant']['user_rating']['aggregate_rating']),\n",
    "            'Cuisines': restaurant['restaurant']['cuisines']\n",
    "        }\n",
    "        restaurants_list.append(info)\n",
    "restaurants_df = pd.DataFrame(restaurants_list)\n",
    "combined_df = pd.merge(restaurants_df, country_df, on='Country Code', how='left')\n",
    "final_df = combined_df.drop('Country Code', axis=1)\n"
   ]
  }
 ],
 "metadata": {
  "kernelspec": {
   "display_name": "Python 3",
   "language": "python",
   "name": "python3"
  },
  "language_info": {
   "codemirror_mode": {
    "name": "ipython",
    "version": 3
   },
   "file_extension": ".py",
   "mimetype": "text/x-python",
   "name": "python",
   "nbconvert_exporter": "python",
   "pygments_lexer": "ipython3",
   "version": "3.11.3"
  }
 },
 "nbformat": 4,
 "nbformat_minor": 2
}
